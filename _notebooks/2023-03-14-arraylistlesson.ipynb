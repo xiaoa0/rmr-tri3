{
 "cells": [
  {
   "attachments": {},
   "cell_type": "markdown",
   "metadata": {},
   "source": [
    "# ArrayLists\n",
    "\n",
    "> Soren, Allie, Saathvika"
   ]
  },
  {
   "attachments": {},
   "cell_type": "markdown",
   "metadata": {},
   "source": [
    "## Introductions\n",
    "- ArrayList class is part of java.util package\n",
    "- ArrayList can be edited and resized, unlike arrays\n",
    "- People are "
   ]
  },
  {
   "cell_type": "code",
   "execution_count": null,
   "metadata": {},
   "outputs": [],
   "source": [
    "// creating arraylist syntax\n",
    "\n",
    "import java.util.ArrayList; // import the ArrayList class\n",
    "\n",
    "ArrayList<String> cars = new ArrayList<String>(); // Create an ArrayList object\n"
   ]
  }
 ],
 "metadata": {
  "kernelspec": {
   "display_name": "Java",
   "language": "java",
   "name": "java"
  },
  "language_info": {
   "name": "java"
  },
  "orig_nbformat": 4
 },
 "nbformat": 4,
 "nbformat_minor": 2
}

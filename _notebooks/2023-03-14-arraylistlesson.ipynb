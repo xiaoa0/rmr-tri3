{
 "cells": [
  {
   "attachments": {},
   "cell_type": "markdown",
   "metadata": {},
   "source": [
    "# ArrayLists Lesson\n",
    "\n",
    "- toc: true\n",
    "- badges: true\n",
    "- comments: true\n",
    "- categories: [fastpages, jupyter]"
   ]
  },
  {
   "attachments": {},
   "cell_type": "markdown",
   "metadata": {},
   "source": [
    "## A Brief Intro:\n",
    "- Learning Objective: ArrayList objects are a good way to represent collections of related object reference data.\n",
    "- An ArrayList is Mutable and contains Object References\n",
    "  - Mutable: Changeable in size and content\n",
    "  - Object References: Stores Wrapper Class Objects, not primitives"
   ]
  },
  {
   "attachments": {},
   "cell_type": "markdown",
   "metadata": {},
   "source": [
    "### Vocabulary:\n",
    "- Static: size can't be changed\n",
    "  - Arrays are static in size\n",
    "- Dynamic: size can be changed at any time\n",
    "  - ArrayLists are dynamic\n",
    "\n",
    "### Differences between Array and ArrayList:\n",
    "|Array|ArrayList|\n",
    "|---|---|\n",
    "|fixed length|resizable length|\n",
    "|fundamental java feature|park of a framework|\n",
    "|an Object with no methods|a Class with many methods|\n",
    "|not as flexible|flexible|\n",
    "|can store primitive data|not designed to store primitives|\n",
    "- Additionally, it's slightly slower than an Array and can only be used with an import statement\n",
    "- ArrayList class is implemented using Arrays!\n",
    "\n",
    "### Declaring an ArrayList:"
   ]
  },
  {
   "cell_type": "code",
   "execution_count": null,
   "metadata": {},
   "outputs": [],
   "source": [
    "// make sure to import!\n",
    "import java.util.ArrayList;\n",
    "\n",
    "// declare a variable to reference an ArrayList Object\n",
    "ArrayList<DataType> variableName;\n",
    "\n",
    "// instantiate an ArrayList Object\n",
    "// stores only elements of the same, NONPRIMITIVE DataType\n",
    "New ArrayList<DataType>(); // empty\n",
    "New ArrayList<DataType>(n); // has n spaces"
   ]
  },
  {
   "attachments": {},
   "cell_type": "markdown",
   "metadata": {},
   "source": [
    "- Use primitive values disguised as Wrapper Class Objects for ArrayLists, since they can only store references to objects, not primitive values!\n",
    "\n",
    "### Hack 1!\n",
    "Create an ArrayList:"
   ]
  },
  {
   "cell_type": "code",
   "execution_count": null,
   "metadata": {},
   "outputs": [],
   "source": [
    "// a) that stores Boolean values\n",
    ";\n",
    "\n",
    "// b) that stores Turtle Objects\n",
    ";\n",
    "\n",
    "// c) that stores 10 Strings, initially\n",
    ";"
   ]
  },
  {
   "attachments": {},
   "cell_type": "markdown",
   "metadata": {},
   "source": [
    "## Methods with ArrayLists:\n",
    "- `int .size()`: returns the number of elements in the ArrayList\n",
    "- `boolean .add(datatype obj)`: appends obj to the end of the list; returns true\n",
    "- `datatype .add(int index, datatype obj)`: inserts obj at position index and moves the rest of the elements to the right higher\n",
    "- `datatype .remove(int index)`: removes element from position index and moves the elements to right of it lower\n",
    "- `datatype .set(int index, datatype obj)`: replaces the element at position index with obj; returns the element formerly as position index\n",
    "- `datatype .get(int index)`: returns the element at position index in the list\n",
    "\n",
    "### Hack 2!\n",
    "Choose 3 different methods from above to change around this sample ArrayList:"
   ]
  },
  {
   "cell_type": "code",
   "execution_count": null,
   "metadata": {},
   "outputs": [],
   "source": [
    "import java.util.ArrayList;\n",
    "\n",
    "public class Hack2 {\n",
    "    public static void main(Integer[] args) {\n",
    "        ArrayList<Integer> randomNumbers = new ArrayList<Integer>();\n",
    "        ;\n",
    "        ;\n",
    "        ;\n",
    "    }\n",
    "}\n",
    "Hack2.main(null);"
   ]
  },
  {
   "attachments": {},
   "cell_type": "markdown",
   "metadata": {},
   "source": [
    "### Passing an ArrayList as a Method Parameter:\n",
    "- ArrayList are reference objects and when passed as a parameter in a method they are passed as references to their addresses, not copies of their values\n",
    "- Methods access and update the elements in ArrayLists directly, so be careful"
   ]
  },
  {
   "attachments": {},
   "cell_type": "markdown",
   "metadata": {},
   "source": [
    "## On the Exam\n",
    "- Min/max value\n",
    "- Find sum, avg, or mode\n",
    "- Check elements for particular property\n",
    "- Check duplicates (individuals or pairs)\n",
    "- Count elements meeting specific criteria\n",
    "- Shift or reverse elements"
   ]
  },
  {
   "attachments": {},
   "cell_type": "markdown",
   "metadata": {},
   "source": [
    "## Traversing ArrayList with loops\n",
    "- For loops: i++ or i--, i = 0 or i = arr.size()-1\n",
    "- While loops: i <arr.size()\n",
    "- Enhanced for loop: no index tracking explicitly used"
   ]
  },
  {
   "cell_type": "code",
   "execution_count": null,
   "metadata": {},
   "outputs": [],
   "source": [
    "for (int i = 0, i < arr.size()-1, i++) {\n",
    "    \n",
    "}\n",
    "\n",
    "for (DataType variable: collection) {\n",
    "    \n",
    "}\n",
    "\n",
    "while (int i < arr.size()-1) {\n",
    "    //code\n",
    "    i++\n",
    "}"
   ]
  },
  {
   "attachments": {},
   "cell_type": "markdown",
   "metadata": {},
   "source": [
    "## Search\n",
    "- Linear search uses loops to check each element for a condition\n",
    "- Remember different checks for conditions: == for int, rounding for doubles (or subtraction), .equals() for objects\n",
    "- Usual return method is index or -1 (false) if not found\n",
    "- Can use enhanced for loop if checking only for existence (no indexes)\n",
    "- If removing elements, use index-- to avoid skipping elements\n",
    "- Sometimes have to sort first to avoid skipping values"
   ]
  },
  {
   "attachments": {},
   "cell_type": "markdown",
   "metadata": {},
   "source": [
    "## Sorting\n",
    "- Selection sort uses a min/max variable that updates with a linear iteration pattern\n",
    "- Needs a helper method to swap values using a third variable\n",
    "- Insertion sort builds sorted structure by placing elements at assigned indexes, uses while loop\n",
    "- Better than selection sort"
   ]
  },
  {
   "attachments": {},
   "cell_type": "markdown",
   "metadata": {},
   "source": [
    "## Hacks"
   ]
  }
 ],
 "metadata": {
  "kernelspec": {
   "display_name": "Java",
   "language": "java",
   "name": "java"
  },
  "language_info": {
   "name": "java"
  },
  "orig_nbformat": 4
 },
 "nbformat": 4,
 "nbformat_minor": 2
}

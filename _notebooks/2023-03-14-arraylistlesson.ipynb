{
 "cells": [
  {
   "attachments": {},
   "cell_type": "markdown",
   "metadata": {},
   "source": [
    "# ArrayLists\n",
    "\n",
    "> Soren, Allie, Saathvika"
   ]
  },
  {
   "attachments": {},
   "cell_type": "markdown",
   "metadata": {},
   "source": [
    "## Introduction\n",
    "- Arraylist: collection of object data of the same type\n",
    "- Arrays are static, size cannot be changed\n",
    "- Arraylist is dynamic in size\n",
    "- Arraylist: part of framework, class (need java.util import), flexible, not for primitive data, slightly slower than arrays\n",
    "- Framework is pre-written code for handing data objects\n",
    "- import java.util.ArrayList;\n",
    "- Declare: ArrayList<DataType> variableName;\n",
    "- New ArrayList<DataType>(n);\n",
    "- ArrayList can be empty or populated\n",
    "- Use wrapper class data types (Integer, Character, Double, Boolean)\n"
   ]
  },
  {
   "cell_type": "code",
   "execution_count": null,
   "metadata": {},
   "outputs": [],
   "source": [
    "import java.util.ArrayList;\n",
    "ArrayList<String> testArray;\n",
    "\n",
    "New ArrayList<Integer>(5);"
   ]
  },
  {
   "attachments": {},
   "cell_type": "markdown",
   "metadata": {},
   "source": [
    "## On the Exam\n",
    "- Min/max value\n",
    "- Find sum, avg, or mode\n",
    "- Check elements for particular property\n",
    "- Check duplicates (individuals or pairs)\n",
    "- Count elements meeting specific criteria\n",
    "- Shift or reverse elements"
   ]
  },
  {
   "attachments": {},
   "cell_type": "markdown",
   "metadata": {},
   "source": [
    "## Traversing ArrayList with loops\n",
    "- For loops: i++ or i--, i = 0 or i = arr.size()-1\n",
    "- While loops: i <arr.size()\n",
    "- Enhanced for loop: no index tracking explicitly used"
   ]
  },
  {
   "cell_type": "code",
   "execution_count": null,
   "metadata": {},
   "outputs": [],
   "source": [
    "for (int i = 0, i < arr.size()-1, i++) {\n",
    "    \n",
    "}\n",
    "\n",
    "for (DataType variable: collection) {\n",
    "    \n",
    "}\n",
    "\n",
    "while (int i < arr.size()-1) {\n",
    "    //code\n",
    "    i++\n",
    "}"
   ]
  },
  {
   "attachments": {},
   "cell_type": "markdown",
   "metadata": {},
   "source": [
    "## Search\n",
    "- Linear search uses loops to check each element for a condition\n",
    "- Remember different checks for conditions: == for int, rounding for doubles (or subtraction), .equals() for objects\n",
    "- Usual return method is index or -1 (false) if not found\n",
    "- Can use enhanced for loop if checking only for existence (no indexes)\n",
    "- If removing elements, use index-- to avoid skipping elements\n",
    "- Sometimes have to sort first to avoid skipping values"
   ]
  },
  {
   "attachments": {},
   "cell_type": "markdown",
   "metadata": {},
   "source": [
    "## Sorting\n",
    "- Selection sort uses a min/max variable that updates with a linear iteration pattern\n",
    "- Needs a helper method to swap values using a third variable\n",
    "- Insertion sort builds sorted structure by placing elements at assigned indexes, uses while loop\n",
    "- Better than selection sort"
   ]
  },
  {
   "attachments": {},
   "cell_type": "markdown",
   "metadata": {},
   "source": [
    "## Hacks"
   ]
  }
 ],
 "metadata": {
  "kernelspec": {
   "display_name": "Java",
   "language": "java",
   "name": "java"
  },
  "language_info": {
   "name": "java"
  },
  "orig_nbformat": 4
 },
 "nbformat": 4,
 "nbformat_minor": 2
}
